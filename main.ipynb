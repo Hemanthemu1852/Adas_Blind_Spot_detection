{
 "cells": [
  {
   "attachments": {},
   "cell_type": "markdown",
   "metadata": {},
   "source": [
    "**Name: Gudela Hemanth**; <br>\n",
    "**Reg No: 201EC224**; <br>\n",
    "**Institution: National Institute of Technology Karnataka , Surathkal**; <br>\n",
    "**Guide: Nagavel Sir**; <br>\n",
    "**Topic:** Blind Spot Detection System: Utilizing YOLOv8 for Real-Time Vehicle Detection in Driver's Blind Spots with Lane Change Safety Alerts\n"
   ]
  },
  {
   "cell_type": "code",
   "execution_count": null,
   "metadata": {},
   "outputs": [],
   "source": [
    "import ultralytics\n",
    "ultralytics.checks()\n",
    "from ultralytics import YOLO\n",
    "model = YOLO(\"//home/hemanth/ADAS-Blind-Spot-Detection/latest_runs/train_weights/last.pt\")"
   ]
  },
  {
   "cell_type": "code",
   "execution_count": null,
   "metadata": {},
   "outputs": [],
   "source": [
    "#FINAL CELL\n",
    "import cv2\n",
    "\n",
    "# Change 'fr' to change playback speed. Lower fr -> Greater playback speed\n",
    "fr = 50\n",
    "\n",
    "# Open video file using OpenCV\n",
    "video_path = \"/home/hemanth/ADAS-Blind-Spot-Detection/SampleVideos/left_23secs.mp4\" # EDIT INPUT FILE\n",
    "cap = cv2.VideoCapture(video_path)\n",
    "\n",
    "i = 1\n",
    "\n",
    "# Define alert function to display a message when \"unsafe\" is detected\n",
    "def show_alert(i):\n",
    "    print(\"ALERT {0}!!! INCOMING VEHICLE\".format(int(i)))\n",
    "\n",
    "# Loop over frames in the video\n",
    "while cap.isOpened():\n",
    "    # Read next frame from video\n",
    "    ret, frame = cap.read()\n",
    "    if not ret:\n",
    "        break\n",
    "\n",
    "    # Perform object detection inference on frame using the trained YOLOv8 model\n",
    "    response = model.predict(source=frame, classes=[1], conf=0.8, show=True)\n",
    "    \n",
    "    if response[0].boxes.cls.shape[0] > 0:\n",
    "        print('UNSAFE TO CHANGE THE LANE')\n",
    "        i += 1\n",
    "    else:\n",
    "        print(\"SAFE TO CHANGE THE LANE\")\n",
    "        \n",
    "    cv2.waitKey(fr)\n",
    "        \n",
    "    if cv2.waitKey(fr) & 0xFF == ord('q'):\n",
    "        break\n",
    "    \n",
    "\n",
    "# Release video capture and close window\n",
    "cap.release()\n",
    "cv2.destroyAllWindows()\n"
   ]
  }
 ],
 "metadata": {
  "kernelspec": {
   "display_name": "Python 3",
   "language": "python",
   "name": "python3"
  },
  "language_info": {
   "codemirror_mode": {
    "name": "ipython",
    "version": 3
   },
   "file_extension": ".py",
   "mimetype": "text/x-python",
   "name": "python",
   "nbconvert_exporter": "python",
   "pygments_lexer": "ipython3",
   "version": "3.11.5"
  },
  "orig_nbformat": 4
 },
 "nbformat": 4,
 "nbformat_minor": 2
}
