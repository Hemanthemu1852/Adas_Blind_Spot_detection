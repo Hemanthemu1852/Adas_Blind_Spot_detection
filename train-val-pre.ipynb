{
 "cells": [
  {
   "cell_type": "code",
   "execution_count": null,
   "metadata": {},
   "outputs": [],
   "source": [
    "#CHECK GPU\n",
    "!nvidia-smi"
   ]
  },
  {
   "cell_type": "code",
   "execution_count": 1,
   "metadata": {},
   "outputs": [
    {
     "name": "stdout",
     "output_type": "stream",
     "text": [
      "/home/hemanth/ADAS-Blind-Spot-Detection\n"
     ]
    }
   ],
   "source": [
    "#SET HOME DIRECTORY\n",
    "import os\n",
    "HOME = os.getcwd()\n",
    "print(HOME)"
   ]
  },
  {
   "cell_type": "code",
   "execution_count": 2,
   "metadata": {},
   "outputs": [
    {
     "name": "stderr",
     "output_type": "stream",
     "text": [
      "/home/hemanth/Downloads/Home/Downloads/Anaconda/lib/python3.11/site-packages/torch/cuda/__init__.py:141: UserWarning: CUDA initialization: The NVIDIA driver on your system is too old (found version 11070). Please update your GPU driver by downloading and installing a new version from the URL: http://www.nvidia.com/Download/index.aspx Alternatively, go to: https://pytorch.org to install a PyTorch version that has been compiled with your version of the CUDA driver. (Triggered internally at ../c10/cuda/CUDAFunctions.cpp:108.)\n",
      "  return torch._C._cuda_getDeviceCount() > 0\n"
     ]
    },
    {
     "name": "stdout",
     "output_type": "stream",
     "text": [
      "Ultralytics YOLOv8.1.31 🚀 Python-3.11.5 torch-2.2.1+cu121 CPU (Intel Core(TM) i5-10210U 1.60GHz)\n",
      "Setup complete ✅ (8 CPUs, 7.6 GB RAM, 54.8/191.2 GB disk)\n"
     ]
    }
   ],
   "source": [
    "#IMPORTING ULTRALYTICS YoloV8\n",
    "\n",
    "from IPython import display\n",
    "display.clear_output()\n",
    "\n",
    "import ultralytics\n",
    "ultralytics.checks()\n",
    "\n",
    "from ultralytics import YOLO"
   ]
  },
  {
   "cell_type": "code",
   "execution_count": 3,
   "metadata": {},
   "outputs": [
    {
     "name": "stdout",
     "output_type": "stream",
     "text": [
      "/home/hemanth/ADAS-Blind-Spot-Detection\n"
     ]
    }
   ],
   "source": [
    "#IMPORTING CUSTOM DATASET FROM ROBOFLOW\n",
    "#!mkdir {HOME}/datasets\n",
    "%cd {HOME}"
   ]
  },
  {
   "cell_type": "code",
   "execution_count": 4,
   "metadata": {},
   "outputs": [
    {
     "name": "stdout",
     "output_type": "stream",
     "text": [
      "New https://pypi.org/project/ultralytics/8.1.41 available 😃 Update with 'pip install -U ultralytics'\n",
      "Ultralytics YOLOv8.1.31 🚀 Python-3.11.5 torch-2.2.1+cu121 CPU (Intel Core(TM) i5-10210U 1.60GHz)\n",
      "\u001b[34m\u001b[1mengine/trainer: \u001b[0mtask=detect, mode=train, model=yolov8s.pt, data=data.yaml, epochs=25, time=None, patience=100, batch=16, imgsz=640, save=True, save_period=-1, cache=False, device=cpu, workers=8, project=None, name=train24, exist_ok=False, pretrained=True, optimizer=auto, verbose=True, seed=0, deterministic=True, single_cls=False, rect=False, cos_lr=False, close_mosaic=10, resume=False, amp=True, fraction=1.0, profile=False, freeze=None, multi_scale=False, overlap_mask=True, mask_ratio=4, dropout=0.0, val=True, split=val, save_json=False, save_hybrid=False, conf=None, iou=0.7, max_det=300, half=False, dnn=False, plots=True, source=None, vid_stride=1, stream_buffer=False, visualize=False, augment=False, agnostic_nms=False, classes=None, retina_masks=False, embed=None, show=False, save_frames=False, save_txt=False, save_conf=False, save_crop=False, show_labels=True, show_conf=True, show_boxes=True, line_width=None, format=torchscript, keras=False, optimize=False, int8=False, dynamic=False, simplify=False, opset=None, workspace=4, nms=False, lr0=0.01, lrf=0.01, momentum=0.937, weight_decay=0.0005, warmup_epochs=3.0, warmup_momentum=0.8, warmup_bias_lr=0.1, box=7.5, cls=0.5, dfl=1.5, pose=12.0, kobj=1.0, label_smoothing=0.0, nbs=64, hsv_h=0.015, hsv_s=0.7, hsv_v=0.4, degrees=0.0, translate=0.1, scale=0.5, shear=0.0, perspective=0.0, flipud=0.0, fliplr=0.5, mosaic=1.0, mixup=0.0, copy_paste=0.0, auto_augment=randaugment, erasing=0.4, crop_fraction=1.0, cfg=None, tracker=botsort.yaml, save_dir=/home/hemanth/runs/detect/train24\n",
      "2024-04-02 11:32:07.965512: E external/local_xla/xla/stream_executor/cuda/cuda_dnn.cc:9261] Unable to register cuDNN factory: Attempting to register factory for plugin cuDNN when one has already been registered\n",
      "2024-04-02 11:32:07.993587: E external/local_xla/xla/stream_executor/cuda/cuda_fft.cc:607] Unable to register cuFFT factory: Attempting to register factory for plugin cuFFT when one has already been registered\n",
      "2024-04-02 11:32:09.890675: E external/local_xla/xla/stream_executor/cuda/cuda_blas.cc:1515] Unable to register cuBLAS factory: Attempting to register factory for plugin cuBLAS when one has already been registered\n",
      "Overriding model.yaml nc=80 with nc=2\n",
      "\n",
      "                   from  n    params  module                                       arguments                     \n",
      "  0                  -1  1       928  ultralytics.nn.modules.conv.Conv             [3, 32, 3, 2]                 \n",
      "  1                  -1  1     18560  ultralytics.nn.modules.conv.Conv             [32, 64, 3, 2]                \n",
      "  2                  -1  1     29056  ultralytics.nn.modules.block.C2f             [64, 64, 1, True]             \n",
      "  3                  -1  1     73984  ultralytics.nn.modules.conv.Conv             [64, 128, 3, 2]               \n",
      "  4                  -1  2    197632  ultralytics.nn.modules.block.C2f             [128, 128, 2, True]           \n",
      "  5                  -1  1    295424  ultralytics.nn.modules.conv.Conv             [128, 256, 3, 2]              \n",
      "  6                  -1  2    788480  ultralytics.nn.modules.block.C2f             [256, 256, 2, True]           \n",
      "  7                  -1  1   1180672  ultralytics.nn.modules.conv.Conv             [256, 512, 3, 2]              \n",
      "  8                  -1  1   1838080  ultralytics.nn.modules.block.C2f             [512, 512, 1, True]           \n",
      "  9                  -1  1    656896  ultralytics.nn.modules.block.SPPF            [512, 512, 5]                 \n",
      " 10                  -1  1         0  torch.nn.modules.upsampling.Upsample         [None, 2, 'nearest']          \n",
      " 11             [-1, 6]  1         0  ultralytics.nn.modules.conv.Concat           [1]                           \n",
      " 12                  -1  1    591360  ultralytics.nn.modules.block.C2f             [768, 256, 1]                 \n",
      " 13                  -1  1         0  torch.nn.modules.upsampling.Upsample         [None, 2, 'nearest']          \n",
      " 14             [-1, 4]  1         0  ultralytics.nn.modules.conv.Concat           [1]                           \n",
      " 15                  -1  1    148224  ultralytics.nn.modules.block.C2f             [384, 128, 1]                 \n",
      " 16                  -1  1    147712  ultralytics.nn.modules.conv.Conv             [128, 128, 3, 2]              \n",
      " 17            [-1, 12]  1         0  ultralytics.nn.modules.conv.Concat           [1]                           \n",
      " 18                  -1  1    493056  ultralytics.nn.modules.block.C2f             [384, 256, 1]                 \n",
      " 19                  -1  1    590336  ultralytics.nn.modules.conv.Conv             [256, 256, 3, 2]              \n",
      " 20             [-1, 9]  1         0  ultralytics.nn.modules.conv.Concat           [1]                           \n",
      " 21                  -1  1   1969152  ultralytics.nn.modules.block.C2f             [768, 512, 1]                 \n",
      " 22        [15, 18, 21]  1   2116822  ultralytics.nn.modules.head.Detect           [2, [128, 256, 512]]          \n",
      "Model summary: 225 layers, 11136374 parameters, 11136358 gradients, 28.6 GFLOPs\n",
      "\n",
      "Transferred 349/355 items from pretrained weights\n",
      "\u001b[34m\u001b[1mTensorBoard: \u001b[0mStart with 'tensorboard --logdir /home/hemanth/runs/detect/train24', view at http://localhost:6006/\n",
      "Freezing layer 'model.22.dfl.conv.weight'\n",
      "\u001b[34m\u001b[1mtrain: \u001b[0mScanning /home/hemanth/ADAS-Blind-Spot-Detection/train/labels.cache... 45\u001b[0m\n",
      "/home/hemanth/Downloads/Home/Downloads/Anaconda/lib/python3.11/site-packages/torch/cuda/__init__.py:141: UserWarning: CUDA initialization: The NVIDIA driver on your system is too old (found version 11070). Please update your GPU driver by downloading and installing a new version from the URL: http://www.nvidia.com/Download/index.aspx Alternatively, go to: https://pytorch.org to install a PyTorch version that has been compiled with your version of the CUDA driver. (Triggered internally at ../c10/cuda/CUDAFunctions.cpp:108.)\n",
      "  return torch._C._cuda_getDeviceCount() > 0\n",
      "\u001b[34m\u001b[1mval: \u001b[0mScanning /home/hemanth/ADAS-Blind-Spot-Detection/valid/labels.cache... 140 \u001b[0m\n",
      "Plotting labels to /home/hemanth/runs/detect/train24/labels.jpg... \n",
      "\u001b[34m\u001b[1moptimizer:\u001b[0m 'optimizer=auto' found, ignoring 'lr0=0.01' and 'momentum=0.937' and determining best 'optimizer', 'lr0' and 'momentum' automatically... \n",
      "\u001b[34m\u001b[1moptimizer:\u001b[0m AdamW(lr=0.001667, momentum=0.9) with parameter groups 57 weight(decay=0.0), 64 weight(decay=0.0005), 63 bias(decay=0.0)\n"
     ]
    }
   ],
   "source": [
    "#TRAINING\n",
    "# Trained the model using T4 GPU(absence of gpu in my laptop makes it difficult to train the model locally) in Google Colab and obtained the best and last pretrained models in the weights folder.\n",
    "!yolo task=detect mode=train model=yolov8s.pt data={'data.yaml'} epochs=25 imgsz=640 plots=True device=cpu"
   ]
  },
  {
   "cell_type": "code",
   "execution_count": 1,
   "metadata": {},
   "outputs": [
    {
     "name": "stdout",
     "output_type": "stream",
     "text": [
      "/home/hemanth/Downloads/Home/Downloads/Anaconda/lib/python3.11/site-packages/torch/cuda/__init__.py:141: UserWarning: CUDA initialization: The NVIDIA driver on your system is too old (found version 11070). Please update your GPU driver by downloading and installing a new version from the URL: http://www.nvidia.com/Download/index.aspx Alternatively, go to: https://pytorch.org to install a PyTorch version that has been compiled with your version of the CUDA driver. (Triggered internally at ../c10/cuda/CUDAFunctions.cpp:108.)\n",
      "  return torch._C._cuda_getDeviceCount() > 0\n",
      "Ultralytics YOLOv8.1.31 🚀 Python-3.11.5 torch-2.2.1+cu121 CPU (Intel Core(TM) i5-10210U 1.60GHz)\n",
      "Model summary (fused): 168 layers, 11126358 parameters, 0 gradients, 28.4 GFLOPs\n",
      "\u001b[34m\u001b[1mval: \u001b[0mScanning /home/hemanth/ADAS-Blind-Spot-Detection/valid/labels.cache... 140 \u001b[0m\n",
      "/home/hemanth/Downloads/Home/Downloads/Anaconda/lib/python3.11/site-packages/torch/cuda/__init__.py:628: UserWarning: Can't initialize NVML\n",
      "  warnings.warn(\"Can't initialize NVML\")\n",
      "                 Class     Images  Instances      Box(P          R      mAP50  m\n",
      "                   all        140        211      0.824      0.953      0.962       0.73\n",
      "                  safe        140        197       0.86      0.906      0.937      0.552\n",
      "                unsafe        140         14      0.788          1      0.986      0.908\n",
      "Speed: 3.1ms preprocess, 380.8ms inference, 0.0ms loss, 1.8ms postprocess per image\n",
      "Results saved to \u001b[1m/home/hemanth/runs/detect/val3\u001b[0m\n",
      "💡 Learn more at https://docs.ultralytics.com/modes/val\n"
     ]
    }
   ],
   "source": [
    "#VALIDATION\n",
    "!yolo task=detect mode=val model={'/home/hemanth/ADAS-Blind-Spot-Detection/latest_runs/train_weights/best.pt'} data={'data.yaml'}"
   ]
  },
  {
   "cell_type": "code",
   "execution_count": 2,
   "metadata": {},
   "outputs": [
    {
     "name": "stdout",
     "output_type": "stream",
     "text": [
      "/home/hemanth/Downloads/Home/Downloads/Anaconda/lib/python3.11/site-packages/torch/cuda/__init__.py:141: UserWarning: CUDA initialization: The NVIDIA driver on your system is too old (found version 11070). Please update your GPU driver by downloading and installing a new version from the URL: http://www.nvidia.com/Download/index.aspx Alternatively, go to: https://pytorch.org to install a PyTorch version that has been compiled with your version of the CUDA driver. (Triggered internally at ../c10/cuda/CUDAFunctions.cpp:108.)\n",
      "  return torch._C._cuda_getDeviceCount() > 0\n",
      "Ultralytics YOLOv8.1.31 🚀 Python-3.11.5 torch-2.2.1+cu121 CPU (Intel Core(TM) i5-10210U 1.60GHz)\n",
      "Model summary (fused): 168 layers, 11126358 parameters, 0 gradients, 28.4 GFLOPs\n",
      "\n",
      "image 1/67 /home/hemanth/ADAS-Blind-Spot-Detection/test/images/t_0_0_0024500rear_png_jpg.rf.c31f6b7c2bda407dd7f0af104836d500.jpg: 640x640 1 safe, 229.6ms\n",
      "image 2/67 /home/hemanth/ADAS-Blind-Spot-Detection/test/images/t_0_0_0025000left_png_jpg.rf.a66c9968c0608134dff17e9ab4bc216f.jpg: 640x640 2 safes, 234.7ms\n",
      "image 3/67 /home/hemanth/ADAS-Blind-Spot-Detection/test/images/t_0_0_0025500rear_png_jpg.rf.1c70fd09a659f2cfe02e6d99394e1273.jpg: 640x640 1 safe, 241.5ms\n",
      "image 4/67 /home/hemanth/ADAS-Blind-Spot-Detection/test/images/t_0_0_0027000rear_png_jpg.rf.9cc9b96496b2b845bb12632b0f79130e.jpg: 640x640 1 safe, 245.6ms\n",
      "image 5/67 /home/hemanth/ADAS-Blind-Spot-Detection/test/images/t_0_0_0029500rear_png_jpg.rf.1c58fe723b82fb969769d97b25b9298f.jpg: 640x640 1 safe, 289.4ms\n",
      "image 6/67 /home/hemanth/ADAS-Blind-Spot-Detection/test/images/t_0_0_0040500rear_png_jpg.rf.967fec99bcc1be43257df1c033a021fa.jpg: 640x640 1 safe, 298.4ms\n",
      "image 7/67 /home/hemanth/ADAS-Blind-Spot-Detection/test/images/t_0_0_0043000rear_png_jpg.rf.39e5157adf8a4668fadd580dc7e19649.jpg: 640x640 1 safe, 294.4ms\n",
      "image 8/67 /home/hemanth/ADAS-Blind-Spot-Detection/test/images/t_0_0_0052000left_png_jpg.rf.6c1fd38a6ab16a44a2510d47ddaeca80.jpg: 640x640 1 safe, 244.7ms\n",
      "image 9/67 /home/hemanth/ADAS-Blind-Spot-Detection/test/images/t_0_0_0060000left_png_jpg.rf.5c3dd43b222ecfe992b8d1dc5b5b01a0.jpg: 640x640 1 safe, 274.7ms\n",
      "image 10/67 /home/hemanth/ADAS-Blind-Spot-Detection/test/images/t_0_0_0083500rear_png_jpg.rf.85aadbed14f5fea810d29241f43598f4.jpg: 640x640 1 safe, 296.7ms\n",
      "image 11/67 /home/hemanth/ADAS-Blind-Spot-Detection/test/images/t_0_0_0100500left_png_jpg.rf.017db2aceec0fdff0e7da399c2d92942.jpg: 640x640 1 safe, 278.9ms\n",
      "image 12/67 /home/hemanth/ADAS-Blind-Spot-Detection/test/images/t_0_0_0103000rear_png_jpg.rf.d88e5adb27d153aa93ffc6db839566f0.jpg: 640x640 1 safe, 222.4ms\n",
      "image 13/67 /home/hemanth/ADAS-Blind-Spot-Detection/test/images/t_0_0_0107500rear_png_jpg.rf.4840dac1c63c3f70df570b88a6b0ea80.jpg: 640x640 2 safes, 239.7ms\n",
      "image 14/67 /home/hemanth/ADAS-Blind-Spot-Detection/test/images/t_0_0_0110500rear_png_jpg.rf.f82053fa24bb83118fa48a7b1f205955.jpg: 640x640 1 safe, 280.6ms\n",
      "image 15/67 /home/hemanth/ADAS-Blind-Spot-Detection/test/images/t_0_0_0112500rear_png_jpg.rf.b242d7be7dbb1a9df1a1826abc6da7c4.jpg: 640x640 1 safe, 302.8ms\n",
      "image 16/67 /home/hemanth/ADAS-Blind-Spot-Detection/test/images/t_0_0_0114500left_png_jpg.rf.fd9f6c6375a736d2f3b974c5b0efba02.jpg: 640x640 1 safe, 1 unsafe, 261.5ms\n",
      "image 17/67 /home/hemanth/ADAS-Blind-Spot-Detection/test/images/t_0_0_0116500front_png_jpg.rf.2042ecf03510c8b567126b84dce1b8c5.jpg: 640x640 2 safes, 300.6ms\n",
      "image 18/67 /home/hemanth/ADAS-Blind-Spot-Detection/test/images/t_0_0_0128000left_png_jpg.rf.a7b09627ddfea23867ba854da4c1d2e5.jpg: 640x640 2 safes, 297.2ms\n",
      "image 19/67 /home/hemanth/ADAS-Blind-Spot-Detection/test/images/t_0_0_0135500right_png_jpg.rf.ca78ed31158e57bb79194a1918e97c54.jpg: 640x640 1 unsafe, 294.7ms\n",
      "image 20/67 /home/hemanth/ADAS-Blind-Spot-Detection/test/images/t_0_0_0139000left_png_jpg.rf.0ca0e6bb3286279431a02f92bed453f4.jpg: 640x640 2 safes, 296.0ms\n",
      "image 21/67 /home/hemanth/ADAS-Blind-Spot-Detection/test/images/t_0_0_0142500front_png_jpg.rf.fca3ff72cb02094a95a896f179a15a57.jpg: 640x640 2 safes, 1 unsafe, 234.5ms\n",
      "image 22/67 /home/hemanth/ADAS-Blind-Spot-Detection/test/images/t_0_0_0142500right_png_jpg.rf.2136cc19c97ae2056555819d1de0e726.jpg: 640x640 1 unsafe, 237.6ms\n",
      "image 23/67 /home/hemanth/ADAS-Blind-Spot-Detection/test/images/t_0_0_0143000front_png_jpg.rf.63466fed69d6b85fdad0a11b2bc292ca.jpg: 640x640 2 safes, 1 unsafe, 251.9ms\n",
      "image 24/67 /home/hemanth/ADAS-Blind-Spot-Detection/test/images/t_0_0_0147500rear_png_jpg.rf.55c67471aded18bf9839a5dff2f56b28.jpg: 640x640 1 safe, 251.5ms\n",
      "image 25/67 /home/hemanth/ADAS-Blind-Spot-Detection/test/images/t_0_0_0152000right_png_jpg.rf.aeac975fa69728a3e651de23d85bdf58.jpg: 640x640 1 unsafe, 291.8ms\n",
      "image 26/67 /home/hemanth/ADAS-Blind-Spot-Detection/test/images/t_0_0_0153000right_png_jpg.rf.00f8a20e5372cfc3a01626559bce6157.jpg: 640x640 1 unsafe, 398.1ms\n",
      "image 27/67 /home/hemanth/ADAS-Blind-Spot-Detection/test/images/t_0_0_0157000rear_png_jpg.rf.22883b09234f582046c23d9e364e642a.jpg: 640x640 2 safes, 412.4ms\n",
      "image 28/67 /home/hemanth/ADAS-Blind-Spot-Detection/test/images/t_0_0_0160000left_png_jpg.rf.d4661570eac5d4cdcfd2cc46503a4358.jpg: 640x640 1 safe, 352.4ms\n",
      "image 29/67 /home/hemanth/ADAS-Blind-Spot-Detection/test/images/t_0_0_0160000rear_png_jpg.rf.54d14b94e0f284025826ec24d95f3b65.jpg: 640x640 1 safe, 487.4ms\n",
      "image 30/67 /home/hemanth/ADAS-Blind-Spot-Detection/test/images/t_0_0_0162000left_png_jpg.rf.fa51e89b9619423886446752e53cb145.jpg: 640x640 1 safe, 474.9ms\n",
      "image 31/67 /home/hemanth/ADAS-Blind-Spot-Detection/test/images/t_0_0_0167500rear_png_jpg.rf.43f89cdf7cc467dbcb47ddceb016d20d.jpg: 640x640 1 safe, 468.2ms\n",
      "image 32/67 /home/hemanth/ADAS-Blind-Spot-Detection/test/images/t_0_0_0175000rear_png_jpg.rf.f178dca46580b5df4acf2cb6e4dfa119.jpg: 640x640 1 safe, 446.2ms\n",
      "image 33/67 /home/hemanth/ADAS-Blind-Spot-Detection/test/images/t_0_0_0181000rear_png_jpg.rf.4b6c722a5b12b75dea56adce3aff6418.jpg: 640x640 3 safes, 472.6ms\n",
      "image 34/67 /home/hemanth/ADAS-Blind-Spot-Detection/test/images/t_0_0_0183500rear_png_jpg.rf.50eb4acb80daaa75795e484d5cb2b3c9.jpg: 640x640 1 safe, 452.4ms\n",
      "image 35/67 /home/hemanth/ADAS-Blind-Spot-Detection/test/images/t_0_0_0187000rear_png_jpg.rf.93055121aee63e92274b362d78d87aab.jpg: 640x640 2 safes, 446.3ms\n",
      "image 36/67 /home/hemanth/ADAS-Blind-Spot-Detection/test/images/t_0_0_0209000left_png_jpg.rf.4a852332308f03cb37834f682d41b47c.jpg: 640x640 1 safe, 491.6ms\n",
      "image 37/67 /home/hemanth/ADAS-Blind-Spot-Detection/test/images/t_0_0_0236500left_png_jpg.rf.13a9b2b3ecfa06a70bd342592e3327f0.jpg: 640x640 1 safe, 525.0ms\n",
      "image 38/67 /home/hemanth/ADAS-Blind-Spot-Detection/test/images/t_0_0_0242000rear_png_jpg.rf.44250156fe4304114844e4cc2c354ea4.jpg: 640x640 1 safe, 599.2ms\n",
      "image 39/67 /home/hemanth/ADAS-Blind-Spot-Detection/test/images/t_0_0_0266000left_png_jpg.rf.a86a0c6fe0c0d0d13930d1ef0f911c5f.jpg: 640x640 1 safe, 412.3ms\n",
      "image 40/67 /home/hemanth/ADAS-Blind-Spot-Detection/test/images/t_0_0_0314500left_png_jpg.rf.1b595df98a91b10fb4b6953d03be7ea9.jpg: 640x640 1 safe, 346.1ms\n",
      "image 41/67 /home/hemanth/ADAS-Blind-Spot-Detection/test/images/t_0_0_0333500front_png_jpg.rf.32cdef2d8ba1ccb96579835d9451a137.jpg: 640x640 1 safe, 309.3ms\n",
      "image 42/67 /home/hemanth/ADAS-Blind-Spot-Detection/test/images/t_0_0_0334000front_png_jpg.rf.fc4eae154a9ad95ed6cd5e8d318f7a21.jpg: 640x640 2 safes, 397.8ms\n",
      "image 43/67 /home/hemanth/ADAS-Blind-Spot-Detection/test/images/t_0_0_0337000right_png_jpg.rf.fe3b7428e1a94224e9013fee0a7ed304.jpg: 640x640 1 unsafe, 362.2ms\n",
      "image 44/67 /home/hemanth/ADAS-Blind-Spot-Detection/test/images/t_0_0_0338000rear_png_jpg.rf.2103c64b5e90d9e1bd7c7140f6dc1398.jpg: 640x640 1 safe, 411.5ms\n",
      "image 45/67 /home/hemanth/ADAS-Blind-Spot-Detection/test/images/t_0_0_0339500rear_png_jpg.rf.ccbfb6d5f1754834a90b7a0b3036b2b8.jpg: 640x640 2 safes, 357.3ms\n",
      "image 46/67 /home/hemanth/ADAS-Blind-Spot-Detection/test/images/t_0_0_0344000rear_png_jpg.rf.0f131d6f049fb6397273b53e37fa414d.jpg: 640x640 2 safes, 379.2ms\n",
      "image 47/67 /home/hemanth/ADAS-Blind-Spot-Detection/test/images/t_0_0_0347500front_png_jpg.rf.611a862737cc17bd7a740d895cf41c2b.jpg: 640x640 2 safes, 1 unsafe, 451.2ms\n",
      "image 48/67 /home/hemanth/ADAS-Blind-Spot-Detection/test/images/t_0_0_0349000rear_png_jpg.rf.b78c04cb74287062dd93ced5dc3a6268.jpg: 640x640 4 safes, 399.7ms\n",
      "image 49/67 /home/hemanth/ADAS-Blind-Spot-Detection/test/images/t_0_0_0349500rear_png_jpg.rf.184d4d9d983e8c2151248fbbcdd00ced.jpg: 640x640 5 safes, 359.4ms\n",
      "image 50/67 /home/hemanth/ADAS-Blind-Spot-Detection/test/images/t_0_0_0357000front_png_jpg.rf.f9e5885053c59f129d8bd9228e39025f.jpg: 640x640 2 safes, 380.0ms\n",
      "image 51/67 /home/hemanth/ADAS-Blind-Spot-Detection/test/images/t_0_0_0368000left_png_jpg.rf.cb8afe804188374345568396250d21fe.jpg: 640x640 1 safe, 290.5ms\n",
      "image 52/67 /home/hemanth/ADAS-Blind-Spot-Detection/test/images/t_0_0_0368500rear_png_jpg.rf.8d3a77cef718e9580d25edd66b369ab6.jpg: 640x640 3 safes, 323.5ms\n",
      "image 53/67 /home/hemanth/ADAS-Blind-Spot-Detection/test/images/t_0_0_0383500rear_png_jpg.rf.529f2ae57f1d81eac697a88e95679aca.jpg: 640x640 2 safes, 336.9ms\n",
      "image 54/67 /home/hemanth/ADAS-Blind-Spot-Detection/test/images/t_0_0_0395000rear_png_jpg.rf.81bc7592a9a45533f46aaff10c0ffb4b.jpg: 640x640 1 safe, 411.9ms\n",
      "image 55/67 /home/hemanth/ADAS-Blind-Spot-Detection/test/images/t_0_0_0395500rear_png_jpg.rf.130e5e7b4d92a4e8aebf5e3e63687be5.jpg: 640x640 3 safes, 412.7ms\n",
      "image 56/67 /home/hemanth/ADAS-Blind-Spot-Detection/test/images/t_0_0_0407000rear_png_jpg.rf.a87d2f83a1c5343dc67a7e381d760a49.jpg: 640x640 1 safe, 500.8ms\n",
      "image 57/67 /home/hemanth/ADAS-Blind-Spot-Detection/test/images/t_0_0_0417500left_png_jpg.rf.3c6833dc84586ca96bd238a944149c22.jpg: 640x640 1 unsafe, 347.7ms\n",
      "image 58/67 /home/hemanth/ADAS-Blind-Spot-Detection/test/images/t_0_0_0419500front_png_jpg.rf.de1b1d696e9f298192b110cce9295dd6.jpg: 640x640 1 safe, 317.2ms\n",
      "image 59/67 /home/hemanth/ADAS-Blind-Spot-Detection/test/images/t_0_0_0419500rear_png_jpg.rf.6f1564b7182ab63d5ee25a54fefb5698.jpg: 640x640 1 safe, 357.9ms\n",
      "image 60/67 /home/hemanth/ADAS-Blind-Spot-Detection/test/images/t_0_1_0025000rear_png_jpg.rf.51682d7ede880ca2f9a2d9a2dba5bdce.jpg: 640x640 1 safe, 362.9ms\n",
      "image 61/67 /home/hemanth/ADAS-Blind-Spot-Detection/test/images/t_0_1_0027000right_png_jpg.rf.0f5e07dfe799a5048d814cd605c0ea75.jpg: 640x640 1 safe, 392.7ms\n",
      "image 62/67 /home/hemanth/ADAS-Blind-Spot-Detection/test/images/t_0_1_0047500rear_png_jpg.rf.a8b5efa3491b911f1b9c05b71070ce35.jpg: 640x640 2 safes, 386.9ms\n",
      "image 63/67 /home/hemanth/ADAS-Blind-Spot-Detection/test/images/t_0_1_0052500rear_png_jpg.rf.34ac49c6b32f20c3e982a288fdef2f57.jpg: 640x640 2 safes, 284.4ms\n",
      "image 64/67 /home/hemanth/ADAS-Blind-Spot-Detection/test/images/t_0_1_0057500rear_png_jpg.rf.d1cc17e43603a1af07d3596400fe5ebe.jpg: 640x640 2 safes, 284.1ms\n",
      "image 65/67 /home/hemanth/ADAS-Blind-Spot-Detection/test/images/t_0_1_0068000rear_png_jpg.rf.ea77c1bc3839a5d967c83d89305fc01b.jpg: 640x640 1 safe, 290.1ms\n",
      "image 66/67 /home/hemanth/ADAS-Blind-Spot-Detection/test/images/t_0_1_0073000left_png_jpg.rf.0272a87bc1bd4e8e688213af5fcc12d7.jpg: 640x640 1 safe, 261.1ms\n",
      "image 67/67 /home/hemanth/ADAS-Blind-Spot-Detection/test/images/t_0_1_0081500left_png_jpg.rf.abb6bf7a1e5a3fd117936da489a5dff0.jpg: 640x640 1 safe, 272.2ms\n",
      "Speed: 3.0ms preprocess, 345.0ms inference, 2.2ms postprocess per image at shape (1, 3, 640, 640)\n",
      "Results saved to \u001b[1m/home/hemanth/runs/detect/predict3\u001b[0m\n",
      "💡 Learn more at https://docs.ultralytics.com/modes/predict\n"
     ]
    }
   ],
   "source": [
    "#PREDICTION\n",
    "!yolo task=detect mode=predict model={'/home/hemanth/ADAS-Blind-Spot-Detection/latest_runs/train_weights/best.pt'} conf=0.25 source={'/home/hemanth/ADAS-Blind-Spot-Detection/test/images'} save=True"
   ]
  }
 ],
 "metadata": {
  "kernelspec": {
   "display_name": "Python 3",
   "language": "python",
   "name": "python3"
  },
  "language_info": {
   "codemirror_mode": {
    "name": "ipython",
    "version": 3
   },
   "file_extension": ".py",
   "mimetype": "text/x-python",
   "name": "python",
   "nbconvert_exporter": "python",
   "pygments_lexer": "ipython3",
   "version": "3.11.5"
  },
  "orig_nbformat": 4
 },
 "nbformat": 4,
 "nbformat_minor": 2
}
